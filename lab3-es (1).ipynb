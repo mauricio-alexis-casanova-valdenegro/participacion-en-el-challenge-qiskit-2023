{
 "cells": [
  {
   "cell_type": "markdown",
   "metadata": {},
   "source": [
    "# Laboratorio 3: Estimación de fase iterativa\n",
    "\n",
    "El algoritmo de estimación de fase cuántica (quantum phase estimation, QPE) es uno de los algoritmos cuánticos más importantes y famosos. Es una subrutina clave del algoritmo de factorización de Shor, así como algoritmos para simulación cuántica. La versión de libro de texto del algoritmo utiliza una cantidad de qubits auxiliares que se escalan con la precisión deseada, lo que lleva a circuitos que son difíciles de ejecutar en los dispositivos ruidosos de hoy en día con un número de qubits y una conectividad limitados.\n",
    "\n",
    "La estimación de fase iterativa (iterative phase estimation, IPE) es una variante de QPE que requiere solo un qubit auxiliar. En IPE, el qubit auxiliar se mide repetidamente y los resultados de la medición se utilizan para guiar futuras operaciones cuánticas. Hasta la introducción de los circuitos dinámicos, este avance clásico era imposible de ejecutar en el hardware cuántico de IBM.\n",
    "\n",
    "En este laboratorio, utilizaremos las capacidades de los circuitos dinámicos introducidas recientemente para implementar IPE."
   ]
  },
  {
   "cell_type": "markdown",
   "metadata": {
    "jp-MarkdownHeadingCollapsed": true,
    "tags": []
   },
   "source": [
    "## Antecedentes\n",
    "\n",
    "Como cualquier algoritmo de estimación de fase, IPE está diseñado para resolver el siguiente problema:\n",
    "\n",
    "**Enunciado del problema:** Dada una matriz unitaria $U$ y un estado propio $|\\Psi\\rangle$ de $U$ con un valor propio desconocido $e^{i 2\\pi \\varphi}$, estimar el valor de $ \\varphi$.\n",
    "\n",
    "Es necesario aclarar algunos detalles importantes en este enunciado del problema, a saber, cómo se especifican $U$ y $|\\Psi\\rangle$. Asumimos que $U$ se da como un circuito cuántico que implementa $U$ y, de hecho, asumimos que tenemos la capacidad de implementar eficientemente las operaciones $U^{2^t}$ *controladas* para enteros positivos $t$.\n",
    "Esta es la misma suposición utilizada en el algoritmo QPE original.\n",
    "El estado propio también se da como un circuito cuántico: suponemos que tenemos la capacidad de \n",
    "preparar eficientemente $|\\Psi\\rangle$.\n",
    "\n",
    "Supongamos primero por simplicidad que $\\varphi$ puede tener una expansión binaria exacta, es decir, se puede escribir como\n",
    "$$\n",
    "\\varphi = \\varphi_1/2 + \\varphi_2/4 + \\cdots + \\varphi_m/2^m = 0.\\varphi_1 \\varphi_2 \\cdots \\varphi_m\n",
    "$$\n",
    "donde en la igualdad final estamos usando notación de punto \"decimal\" en base 2.\n",
    "Para simplificar, supongamos que $U$ es un operador unitario que actúa sobre un qubit (todo lo que decimos aquí también se aplica al caso en el que $U$ actúa sobre múltiples qubits). Dado que IPE requiere un qubit auxiliar, necesitamos un sistema de dos qubits, $q_0$ y $q_1$, donde $q_0$ es el qubit auxiliar y $q_1$ representa el sistema físico en el que opera $U$.\n",
    "\n",
    "Ahora, supongamos que inicializamos $q_0$ en el estado $|+\\rangle = \\frac{|0\\rangle + |1\\rangle}{\\sqrt{2}}$ y $q_1$ en el estado $|\\Psi \\rangle$.\n",
    "¿Qué sucede si aplicamos la compuerta $U^{2^t}$ *controlada*, siendo $q_0$ el control y $q_1$ el objetivo?\n",
    "Como $|\\Psi \\rangle$ es un estado propio de $U$ con valor propio $e^{i 2\\pi \\varphi}$, tenemos\n",
    "$$\n",
    "\\begin{align}\n",
    "|+\\rangle |\\Psi \\rangle &= \\left(\\frac{|0\\rangle + |1\\rangle}{\\sqrt{2}}\\right) |\\Psi \\rangle \\\\\n",
    "&= \\frac{|0\\rangle |\\Psi \\rangle + |1\\rangle |\\Psi \\rangle}{\\sqrt{2}} \\\\\n",
    "&\\xrightarrow{U^{2^t}\\text{ controlada}} \\frac{|0\\rangle |\\Psi \\rangle + e^{i 2 \\pi 2^{t} \\varphi} |1\\rangle |\\Psi \\rangle}{\\sqrt{2}} \\\\\n",
    "&= \\left(\\frac{|0\\rangle  + e^{i 2 \\pi 2^{t} \\varphi} |1\\rangle}{\\sqrt{2}}\\right) |\\Psi \\rangle.\n",
    "\\end{align}\n",
    "$$\n",
    "Es decir, el estado del qubit del sistema permanece sin cambios, mientras que una fase de $e^{i 2 \\pi 2^{t} \\varphi}$ se ha \"traspasado\" al estado del qubit auxiliar.\n",
    "\n",
    "Ahora, ten en cuenta que\n",
    "$$\n",
    "e^{i 2 \\pi 2^{t} \\varphi} = e^{i 2 \\pi 2^{t} (0.\\varphi_1 \\varphi_2 \\cdots \\varphi_m)}\n",
    "= e^{i 2 \\pi (\\varphi_1 \\cdots \\varphi_t . \\varphi_{t + 1} \\cdots \\varphi_m)}\n",
    "= e^{i 2 \\pi (0. \\varphi_{t + 1} \\cdots \\varphi_m)},\n",
    "$$\n",
    "donde en la última igualdad, la parte entera de la representación \"decimal\" de la fase ha desaparecido porque $e^{i 2\\pi n} = 1$ para cualquier entero $n$.\n",
    "Por ejemplo:\n",
    "- para $t=0$, la fase sería $e^{i 2 \\pi 2^{0} \\varphi} = e^{i 2 \\pi \\varphi} = e^{i 2 \\pi 0.\\varphi_1 \\varphi_2 ... \\varphi_m}$\n",
    "- para $t=1$, la fase sería $e^{i 2 \\pi 2^{1} \\varphi}= e^{i 2 \\pi \\varphi_1} e^{i 2 \\pi 0.\\varphi_2 \\varphi_3 ... \\varphi_m} = e^{i 2 \\pi 0.\\varphi_2 \\varphi_3 ... \\varphi_m}$\n",
    "- para $t=2$, la fase sería $e^{i 2 \\pi 2^{2} \\varphi} = e^{i 2 \\pi 0.\\varphi_3 \\varphi_4 ... \\varphi_m}$\n",
    "- para $t=m-1$, la fase sería $e^{i 2 \\pi 2^{m-1} \\varphi} = e^{i 2 \\pi 0.\\varphi_m}$.\n",
    "\n",
    "En el último caso donde $t = m - 1$, la fase es $e^{i 2 \\pi 0.\\varphi_m}$, que es igual a $1$ si $\\varphi_m = 0$ y $-1$ si $\\varphi_m = 1$.\n",
    "En el primer caso, el qubit auxiliar $q_0$ estaría en el estado $|+\\rangle = \\frac{|0\\rangle + |1\\rangle}{\\sqrt{2}}$, y en el segundo caso estaría\n",
    "en el estado $|-\\rangle = \\frac{|0\\rangle - |1\\rangle}{\\sqrt{2}}$. Por lo tanto, medir el qubit en la base de Pauli $X$ distinguiría estos casos con una tasa de éxito del 100\\%.\n",
    "Esto se hace ejecutando una compuerta Hadamard en el qubit antes de medirlo. En el primer caso mediríamos 0 y en el segundo caso mediríamos 1;\n",
    "en otras palabras, el bit medido sería igual a $\\varphi_m$.\n",
    "\n",
    "\n",
    "\n",
    "\n",
    "### El algoritmo\n",
    "\n",
    "En el primer paso del algoritmo IPE, medimos directamente el bit menos significativo de la fase $\\varphi$, $\\varphi_m$, inicializando los registros de 2 qubits como se describe arriba ( $q_0 \\rightarrow |+\\rangle$ y $q_1 \\rightarrow |\\Psi \\rangle$ ), realizando una operación $U^{2^{m-1}}$ *controlada* y midiendo $q_0$ en la base de Pauli $X$.\n",
    "\n",
    "en el segundo paso, inicializamos los sistemas de la misma manera y aplicamos una operación $U^{2^{m-2}}$ *controlada*. La fase relativa en $q_0$ después de estas operaciones ahora es $e^{i 2 \\pi 0.\\varphi_{m-1}\\varphi_{m}}= e^{i 2 \\pi 0.\\varphi_{m- 1}} e^{i 2 \\pi \\varphi_m/4}$.\n",
    "Para extraer el bit de fase $\\varphi_{m-1}$, primero realiza una corrección de fase girando alrededor del eje $Z$ un ángulo $-2 \\pi \\varphi_m/4=-\\pi \\varphi_m/2$, lo que da como resultado que el estado de $q_0$ sea $|0\\rangle + e^{i 2 \\pi 0.\\varphi_{m-1}} | 1 \\rangle$. Realiza una medición en $q_0$ en la base de Pauli $X$ para obtener el bit de fase $\\varphi_{m-1}$.\n",
    "\n",
    "Por lo tanto, el paso $k$-ésimo del IPE, obteniendo $\\varphi_{m-k+1}$, consiste en la inicialización del registro ($q_0$ en $|+\\rangle$, $q_1$ en $|\\Psi\\rangle$), la aplicación de una $U^{2^{m-k}}$ *controlada*, una rotación alrededor de $Z$ del ángulo $\\omega_k = -2 \\pi 0.0\\varphi_{m-k+ 2} ... \\varphi_m$, y una medida de $q_0$ en la base de Pauli $X$: una transformación Hadamard a $q_0$, y una medicióm de $q_0$ en la base computacional. Ten en cuenta que $q_1$ permanece en el estado $|\\Psi\\rangle$ durante todo el algoritmo."
   ]
  },
  {
   "cell_type": "markdown",
   "metadata": {},
   "source": [
    "## Implementación\n",
    "\n",
    "En este laboratorio, realizaremos IPE en la compuerta $S$ de un solo qubit. La compuerta $S$ viene dada por la matriz\n",
    "\n",
    "$$ S =\n",
    "\\begin{pmatrix}\n",
    "1 & 0\\\\\n",
    "0 & e^{i\\pi / 2}\n",
    "\\end{pmatrix}$$\n",
    "\n",
    "Usaremos el estado propio $|\\Psi\\rangle = |1\\rangle$, que tiene un valor propio $e^{i\\pi / 2}= e^{i2\\pi \\cdot 1/4}$. Entonces tenemos $\\varphi = 1/4 = 0.01 = 0.\\varphi_1 \\varphi_2$. Dado que $\\varphi$ se puede representar exactamente con 2 bits, nuestra implementación de circuito cuántico utilizará un registro clásico con dos bits para almacenar el resultado.\n",
    "\n",
    "La compuerta $S$ controlada se puede implementar usando la compuerta de fase controlada, disponible en Qiskit como `CPhaseGate`, que también se puede aplicar llamando al método `cp` de un `QuantumCircuit`. La compuerta de fase controlada está parametrizada por un ángulo $\\theta$ y tiene la matriz\n",
    "$$\n",
    "        \\text{CPhase}(\\theta) =\n",
    "            \\begin{pmatrix}\n",
    "                1 & 0 & 0 & 0 \\\\\n",
    "                0 & 1 & 0 & 0 \\\\\n",
    "                0 & 0 & 1 & 0 \\\\\n",
    "                0 & 0 & 0 & e^{i\\theta}\n",
    "            \\end{pmatrix}\n",
    "$$"
   ]
  },
  {
   "cell_type": "markdown",
   "metadata": {},
   "source": [
    "\n",
    "### Paso 1\n",
    "\n",
    "En el primer paso del algoritmo, medimos el bit menos significativo de $\\varphi$.\n",
    "\n",
    "#### Ejercicio 1\n",
    "\n",
    "Obtén el bit menos significativo de $\\varphi$ realizando los siguientes pasos:\n",
    "1. Inicializa los qubits:\n",
    "    - Aplica una Hadamard en el qubit auxiliar.\n",
    "    - Aplica una compuerta X en el qubit del sistema para ponerlo en el estado $|1\\rangle$.\n",
    "2. Aplica una compuerta $S^{2}$ *controlada* aplicando una `CPhaseGate` con el ángulo apropiado.\n",
    "3. Mide el qubit auxiliar en la base de $X$:\n",
    "    - Aplica una compuerta Hadamard en el qubit auxiliar.\n",
    "    - Mídelo en la base computacional.\n",
    "\n",
    "El circuito resultante debería verse así:\n",
    "\n",
    "![step1-circuit](resources/step1-circuit.png)"
   ]
  },
  {
   "cell_type": "code",
   "execution_count": 12,
   "metadata": {
    "tags": []
   },
   "outputs": [
    {
     "data": {
      "image/png": "[encoded data removed]",
      "text/plain": [
       "<Figure size 454.517x284.278 with 1 Axes>"
      ]
     },
     "execution_count": 12,
     "metadata": {},
     "output_type": "execute_result"
    }
   ],
   "source": [
    "from qiskit import ClassicalRegister, QuantumCircuit, QuantumRegister\n",
    "import numpy as np\n",
    "\n",
    "\n",
    "def step_1_circuit(qr: QuantumRegister, cr: ClassicalRegister) -> QuantumCircuit:\n",
    "    # qr is a quantum register with 2 qubits\n",
    "    # cr is a classical register with 2 bits\n",
    "\n",
    "    qc = QuantumCircuit(qr, cr)\n",
    "\n",
    "    ####### your code goes here #######\n",
    "    qc.h(0)\n",
    "    qc.x(1)\n",
    "    u_angle =  np.pi / 2\n",
    "    k = 1\n",
    "    cphase_angle = u_angle * 2**k\n",
    "    qc.cp(cphase_angle, 0, 1)\n",
    "    qc.h(0)\n",
    "    qc.measure(0, 0)\n",
    "\n",
    "    return qc\n",
    "\n",
    "\n",
    "qr = QuantumRegister(2, \"q\")\n",
    "cr = ClassicalRegister(2, \"c\")\n",
    "qc = QuantumCircuit(qr, cr)\n",
    "qc = step_1_circuit(qr, cr)\n",
    "qc.draw(\"mpl\")"
   ]
  },
  {
   "cell_type": "code",
   "execution_count": 13,
   "metadata": {
    "tags": []
   },
   "outputs": [
    {
     "name": "stdout",
     "output_type": "stream",
     "text": [
      "Submitting your answer. Please wait...\n",
      "Congratulations 🎉! Your answer is correct and has been submitted.\n"
     ]
    }
   ],
   "source": [
    "# Submit your circuit\n",
    "\n",
    "from qc_grader.challenges.spring_2023 import grade_ex3a\n",
    "\n",
    "grade_ex3a(qc)"
   ]
  },
  {
   "cell_type": "markdown",
   "metadata": {},
   "source": [
    "### Paso 2\n",
    "\n",
    "En el primer paso, medimos el bit menos significativo $\\varphi_2$. En el segundo (y último) paso, extraemos el siguiente bit $\\varphi_1$, que implicará aplicar una corrección de fase para cancelar la contribución de fase de $\\varphi_2$. La corrección de fase depende del valor del registro clásico que contiene $\\varphi_2$. ¡Necesitamos circuitos dinámicos para realizar esta retroalimentación clásica! La corrección de fase se puede aplicar usando `PhaseGate` o llamando directamente al método `p` de un QuantumCircuit.\n",
    "\n",
    "#### Ejercicio 2\n",
    "\n",
    "En este ejercicio, comenzamos con el circuito del Paso 1, que deberías haber construido en el Ejercicio 1.\n",
    "\n",
    "Obtén el siguiente bit de $\\varphi$ realizando los siguientes pasos:\n",
    "1. Restablece y reinicia el qubit auxiliar.\n",
    "2. Aplica la compuerta unitaria controlada.\n",
    "3. Mide el qubit auxiliar en la base de $X$.\n",
    "\n",
    "El circuito resultante debería verse así:\n",
    "\n",
    "![step1-circuit](resources/step2-circuit.png)"
   ]
  },
  {
   "cell_type": "code",
   "execution_count": 16,
   "metadata": {
    "tags": []
   },
   "outputs": [
    {
     "data": {
      "image/png": "[encoded data removed]",
      "text/plain": [
       "<Figure size 1123.41x367.889 with 1 Axes>"
      ]
     },
     "execution_count": 16,
     "metadata": {},
     "output_type": "execute_result"
    }
   ],
   "source": [
    "def step_2_circuit(qr: QuantumRegister, cr: ClassicalRegister) -> QuantumCircuit:\n",
    "    # qr is a quantum register with 2 qubits\n",
    "    # cr is a classical register with 2 bits\n",
    "\n",
    "    # begin with the circuit from Step 1\n",
    "    qc = step_1_circuit(qr, cr)\n",
    "\n",
    "    ####### your code goes here #######\n",
    "    u_angle =  np.pi / 2\n",
    "    qc.reset(0)\n",
    "    qc.h(0)\n",
    "    with qc.if_test((0, 1)):\n",
    "        qc.p(-np.pi / 2, 0)\n",
    "    k = 0\n",
    "    cphase_angle = u_angle * 2**k\n",
    "    qc.cp(cphase_angle, 0, 1)\n",
    "    qc.h(0)\n",
    "    qc.measure(0, 1)\n",
    "\n",
    "    return qc\n",
    "\n",
    "\n",
    "qr = QuantumRegister(2, \"q\")\n",
    "cr = ClassicalRegister(2, \"c\")\n",
    "qc = QuantumCircuit(qr, cr)\n",
    "qc = step_2_circuit(qr, cr)\n",
    "qc.draw(\"mpl\")"
   ]
  },
  {
   "cell_type": "code",
   "execution_count": 17,
   "metadata": {
    "tags": []
   },
   "outputs": [
    {
     "name": "stdout",
     "output_type": "stream",
     "text": [
      "Submitting your answer. Please wait...\n",
      "Congratulations 🎉! Your answer is correct and has been submitted.\n"
     ]
    }
   ],
   "source": [
    "# Submit your circuit\n",
    "\n",
    "from qc_grader.challenges.spring_2023 import grade_ex3b\n",
    "\n",
    "grade_ex3b(qc)"
   ]
  },
  {
   "cell_type": "markdown",
   "metadata": {},
   "source": [
    "## Ejecutar en simulador\n",
    "\n",
    "Ahora que tenemos el circuito completo, primero vamos a ejecutarlo en un simulador local."
   ]
  },
  {
   "cell_type": "code",
   "execution_count": 18,
   "metadata": {
    "tags": []
   },
   "outputs": [
    {
     "data": {
      "text/plain": [
       "{'01': 1000}"
      ]
     },
     "execution_count": 18,
     "metadata": {},
     "output_type": "execute_result"
    }
   ],
   "source": [
    "from qiskit_aer import AerSimulator\n",
    "\n",
    "sim = AerSimulator()\n",
    "job = sim.run(qc, shots=1000)\n",
    "result = job.result()\n",
    "counts = result.get_counts()\n",
    "counts"
   ]
  },
  {
   "cell_type": "markdown",
   "metadata": {},
   "source": [
    "Si tu circuito es correcto, deberías haber obtenido la cadena de bits `01` con un 100% de probabilidad. Este valor corresponde a la fase escrita en binario como $\\varphi = 0.01 = 1/4$. De hecho, esta es la fase correcta!"
   ]
  },
  {
   "cell_type": "markdown",
   "metadata": {},
   "source": [
    "### Ejercicio 3\n",
    "\n",
    "Construye un circuito IPE para estimar la fase de la compuerta T, cuya matriz está dada por\n",
    "\n",
    "$$ T =\n",
    "\\begin{pmatrix}\n",
    "1 & 0\\\\\n",
    "0 & e^{i\\pi / 4}\n",
    "\\end{pmatrix}$$\n",
    "\n",
    "¿Cuántos bits se necesitan para representar la fase en este caso?"
   ]
  },
  {
   "cell_type": "code",
   "execution_count": 19,
   "metadata": {
    "tags": []
   },
   "outputs": [
    {
     "data": {
      "image/png": "[encoded data removed]",
      "text/plain": [
       "<Figure size 1123.41x451.5 with 1 Axes>"
      ]
     },
     "execution_count": 19,
     "metadata": {},
     "output_type": "execute_result"
    }
   ],
   "source": [
    "from qiskit import ClassicalRegister, QuantumCircuit, QuantumRegister\n",
    "import numpy as np\n",
    "\n",
    "\n",
    "def t_gate_ipe_circuit(qr: QuantumRegister, cr: ClassicalRegister) -> QuantumCircuit:\n",
    "    # qr is a quantum register with 2 qubits\n",
    "    # cr is a classical register with 3 bits\n",
    "\n",
    "    qc = QuantumCircuit(qr, cr)\n",
    "\n",
    "    ####### your code goes here #######\n",
    "    qc.h(0)\n",
    "    qc.x(1)\n",
    "    u_angle =  np.pi / 4\n",
    "    k = 2\n",
    "    cphase_angle = u_angle * 2**k\n",
    "    qc.cp(cphase_angle, 0, 1)\n",
    "    qc.h(0)\n",
    "    qc.measure(0, 0)    \n",
    "    qc.reset(0)\n",
    "    qc.h(0)\n",
    "    with qc.if_test((0, 1)):\n",
    "        qc.p(-np.pi / 2, 0)\n",
    "    k = 1\n",
    "    cphase_angle = u_angle * 2**k\n",
    "    qc.cp(cphase_angle, 0, 1)\n",
    "    qc.h(0)\n",
    "    qc.measure(0, 1)\n",
    "\n",
    "    return qc\n",
    "\n",
    "\n",
    "qr = QuantumRegister(2, \"q\")\n",
    "cr = ClassicalRegister(3, \"c\")\n",
    "qc = QuantumCircuit(qr, cr)\n",
    "qc = t_gate_ipe_circuit(qr, cr)\n",
    "qc.draw(\"mpl\")"
   ]
  },
  {
   "cell_type": "code",
   "execution_count": 20,
   "metadata": {
    "tags": []
   },
   "outputs": [
    {
     "data": {
      "text/plain": [
       "{'001': 1000}"
      ]
     },
     "execution_count": 20,
     "metadata": {},
     "output_type": "execute_result"
    }
   ],
   "source": [
    "from qiskit_aer import AerSimulator\n",
    "\n",
    "sim = AerSimulator()\n",
    "job = sim.run(qc, shots=1000)\n",
    "result = job.result()\n",
    "counts = result.get_counts()\n",
    "counts"
   ]
  },
  {
   "cell_type": "code",
   "execution_count": 21,
   "metadata": {
    "tags": []
   },
   "outputs": [
    {
     "name": "stdout",
     "output_type": "stream",
     "text": [
      "Submitting your answer. Please wait...\n",
      "Congratulations 🎉! Your answer is correct and has been submitted.\n"
     ]
    }
   ],
   "source": [
    "# Submit your circuit\n",
    "\n",
    "from qc_grader.challenges.spring_2023 import grade_ex3c\n",
    "\n",
    "grade_ex3c(qc)"
   ]
  },
  {
   "cell_type": "markdown",
   "metadata": {},
   "source": [
    "### Cuando la fase no tiene una expansión binaria exacta\n",
    "\n",
    "Consideremos el caso cuando la fase no tiene una expansión binaria exacta, por ejemplo, $\\varphi = 1/3$.\n",
    "En este caso, la compuerta de un solo qubit tiene la matriz unitaria\n",
    "\n",
    "$$ U =\n",
    "\\begin{pmatrix}\n",
    "1 & 0\\\\\n",
    "0 & e^{i2\\pi / 3}\n",
    "\\end{pmatrix}\n",
    "$$\n",
    "\n",
    "El ángulo $\\varphi = 1/3$ no tiene una expansión binaria finita exacta. Por el contrario, tiene la expansión binaria infinita\n",
    "\n",
    "$$\n",
    "1/3 = 0.010101\\ldots\n",
    "$$\n",
    "\n",
    "En la práctica trabajamos con un número fijo de bits de precisión, por lo que nuestro objetivo es obtener el valor más cercano que se pueda representar con esos bits. En el siguiente ejemplo, usaremos dos bits de precisión. En este caso, el valor más cercano es $0.01 = 1/4$. Debido a que este valor no representa la fase exacta, existe cierta probabilidad de que obtengamos un resultado diferente y menos preciso.\n",
    "\n",
    "En las siguientes celdas de código, construimos y simulamos un circuito IPE para medir la fase de esta compuerta."
   ]
  },
  {
   "cell_type": "code",
   "execution_count": 22,
   "metadata": {},
   "outputs": [
    {
     "data": {
      "image/png": "[encoded data removed]",
      "text/plain": [
       "<Figure size 1207.02x367.889 with 1 Axes>"
      ]
     },
     "execution_count": 22,
     "metadata": {},
     "output_type": "execute_result"
    }
   ],
   "source": [
    "from qiskit import ClassicalRegister, QuantumCircuit, QuantumRegister\n",
    "import numpy as np\n",
    "\n",
    "\n",
    "def u_circuit(qr: QuantumRegister, cr: ClassicalRegister) -> QuantumCircuit:\n",
    "    # qr is a quantum register with 2 qubits\n",
    "    # cr is a classical register with 2 bits\n",
    "\n",
    "    qc = QuantumCircuit(qr, cr)\n",
    "\n",
    "    # Initialization\n",
    "    q0, q1 = qr\n",
    "    qc.h(q0)\n",
    "    qc.x(q1)\n",
    "\n",
    "    # Apply control-U operator as many times as needed to get the least significant phase bit\n",
    "    u_angle = 2 * np.pi / 3\n",
    "    k = 1\n",
    "    cphase_angle = u_angle * 2**k\n",
    "    qc.cp(cphase_angle, q0, q1)\n",
    "\n",
    "    # Measure the auxiliary qubit in x-basis into the first classical bit\n",
    "    qc.h(q0)\n",
    "    c0, c1 = cr\n",
    "    qc.measure(q0, c0)\n",
    "\n",
    "    # Reset and re-initialize the auxiliary qubit\n",
    "    qc.reset(q0)\n",
    "    qc.h(q0)\n",
    "\n",
    "    # Apply phase correction conditioned on the first classical bit\n",
    "    with qc.if_test((c0, 1)):\n",
    "        qc.p(-np.pi / 2, q0)\n",
    "\n",
    "    # Apply control-U operator as many times as needed to get the next phase bit\n",
    "    k = 0\n",
    "    cphase_angle = u_angle * 2**k\n",
    "    qc.cp(cphase_angle, q0, q1)\n",
    "\n",
    "    # Measure the auxiliary qubit in x-basis into the second classical bit\n",
    "    qc.h(q0)\n",
    "    qc.measure(q0, c1)\n",
    "\n",
    "    return qc\n",
    "\n",
    "\n",
    "qr = QuantumRegister(2, \"q\")\n",
    "cr = ClassicalRegister(2, \"c\")\n",
    "qc = QuantumCircuit(qr, cr)\n",
    "qc = u_circuit(qr, cr)\n",
    "qc.draw(\"mpl\")"
   ]
  },
  {
   "cell_type": "code",
   "execution_count": 23,
   "metadata": {},
   "outputs": [
    {
     "name": "stdout",
     "output_type": "stream",
     "text": [
      "{'11': 39, '01': 710, '00': 57, '10': 194}\n",
      "Success probability: 0.71\n"
     ]
    }
   ],
   "source": [
    "from qiskit_aer import AerSimulator\n",
    "\n",
    "sim = AerSimulator()\n",
    "job = sim.run(qc, shots=1000)\n",
    "result = job.result()\n",
    "counts = result.get_counts()\n",
    "print(counts)\n",
    "success_probability = counts[\"01\"] / counts.shots()\n",
    "print(f\"Success probability: {success_probability}\")"
   ]
  },
  {
   "cell_type": "markdown",
   "metadata": {},
   "source": [
    "Como puedes ver, esta vez, no tenemos garatía de obtener el resultado deseado. Una pregunta natural es: ¿Cómo podemos aumentar la probabilidad de éxito?\n",
    "\n",
    "Una forma en que el algoritmo falla es que el primer bit medido es incorrecto. En este caso, la corrección de fase aplicada antes de medir el segundo bit también es incorrecta, lo que hace que el resto de los bits también sean incorrectos. Una forma sencilla de mitigar este problema es repetir la medición de los primeros bits varias veces y obtener un voto mayoritario para aumentar la probabilidad de que midamos el bit correctamente. La implementación de este procedimiento dentro de un solo circuito requiere realizar aritmética en los resultados medidos. Debido a una limitación temporal en Qiskit, actualmente no es posible realizar operaciones aritméticas en bits medidos y condicionar futuras operaciones de circuito en los resultados. Entonces, aquí mediremos cada bit usando circuitos separados.\n",
    "\n",
    "Las siguientes celdas de código construyen y simulan un circuito IPE para medir solo el primer bit de la fase."
   ]
  },
  {
   "cell_type": "code",
   "execution_count": 24,
   "metadata": {},
   "outputs": [
    {
     "data": {
      "image/png": "[encoded data removed]",
      "text/plain": [
       "<Figure size 538.128x284.278 with 1 Axes>"
      ]
     },
     "execution_count": 24,
     "metadata": {},
     "output_type": "execute_result"
    }
   ],
   "source": [
    "from qiskit import ClassicalRegister, QuantumCircuit, QuantumRegister\n",
    "import numpy as np\n",
    "\n",
    "\n",
    "def u_circuit(qr: QuantumRegister, cr: ClassicalRegister) -> QuantumCircuit:\n",
    "    # qr is a quantum register with 2 qubits\n",
    "    # cr is a classical register with 1 bits\n",
    "\n",
    "    qc = QuantumCircuit(qr, cr)\n",
    "\n",
    "    # Initialization\n",
    "    q0, q1 = qr\n",
    "    qc.h(q0)\n",
    "    qc.x(q1)\n",
    "\n",
    "    # Apply control-U operator as many times as needed to get the least significant phase bit\n",
    "    u_angle = 2 * np.pi / 3\n",
    "    k = 1\n",
    "    cphase_angle = u_angle * 2**k\n",
    "    qc.cp(cphase_angle, q0, q1)\n",
    "\n",
    "    # Measure the auxiliary qubit in x-basis\n",
    "    qc.h(q0)\n",
    "    (c0,) = cr\n",
    "    qc.measure(q0, c0)\n",
    "\n",
    "    return qc\n",
    "\n",
    "\n",
    "qr = QuantumRegister(2, \"q\")\n",
    "cr = ClassicalRegister(1, \"c\")\n",
    "qc = QuantumCircuit(qr, cr)\n",
    "qc = u_circuit(qr, cr)\n",
    "qc.draw(\"mpl\")"
   ]
  },
  {
   "cell_type": "code",
   "execution_count": 25,
   "metadata": {},
   "outputs": [
    {
     "name": "stdout",
     "output_type": "stream",
     "text": [
      "{'0': 268, '1': 756}\n"
     ]
    }
   ],
   "source": [
    "job = sim.run(qc, shots=1024)\n",
    "result = job.result()\n",
    "counts = result.get_counts()\n",
    "print(counts)"
   ]
  },
  {
   "cell_type": "markdown",
   "metadata": {},
   "source": [
    "Con suerte, el bit correcto se midió la mayoría de las veces.\n",
    "\n",
    "### Ejercicio 4\n",
    "\n",
    "Examina el diccionario de recuentos desde la salida de la última celda de código. ¿Cuál es el valor correcto para el primer bit? ¿Se midió la mayoría de las veces? De lo contrario, vuelve a ejecutar la última celda de código hasta que lo sea. Luego, escribe un código en la celda a continuación que establezca la variable `step1_bit` igual al valor del bit que se midió la mayor parte del tiempo."
   ]
  },
  {
   "cell_type": "code",
   "execution_count": 26,
   "metadata": {},
   "outputs": [
    {
     "name": "stdout",
     "output_type": "stream",
     "text": [
      "1\n"
     ]
    }
   ],
   "source": [
    "step1_bit: int\n",
    "\n",
    "####### your code goes here #######\n",
    "step1_bit =int(max(counts))\n",
    "\n",
    "print(step1_bit)"
   ]
  },
  {
   "cell_type": "code",
   "execution_count": 27,
   "metadata": {},
   "outputs": [
    {
     "name": "stdout",
     "output_type": "stream",
     "text": [
      "Submitting your answer. Please wait...\n",
      "Congratulations 🎉! Your answer is correct and has been submitted.\n"
     ]
    }
   ],
   "source": [
    "# Submit your result\n",
    "\n",
    "from qc_grader.challenges.spring_2023 import grade_ex3d\n",
    "\n",
    "grade_ex3d(step1_bit)"
   ]
  },
  {
   "cell_type": "markdown",
   "metadata": {},
   "source": [
    "### Ejercicio 5\n",
    "\n",
    "Ahora construye el circuito para medir el segundo bit de la fase. Reemplaza la primera etapa del circuito con una que simplemente establezca el bit auxiliar en el valor que medimos anteriormente, de modo que siempre midamos el valor correcto para el primer bit de la fase."
   ]
  },
  {
   "cell_type": "code",
   "execution_count": 29,
   "metadata": {},
   "outputs": [
    {
     "data": {
      "image/png": "[encoded data removed]",
      "text/plain": [
       "<Figure size 956.183x367.889 with 1 Axes>"
      ]
     },
     "execution_count": 29,
     "metadata": {},
     "output_type": "execute_result"
    }
   ],
   "source": [
    "from qiskit import ClassicalRegister, QuantumCircuit, QuantumRegister\n",
    "import numpy as np\n",
    "\n",
    "\n",
    "def u_circuit(qr: QuantumRegister, cr: ClassicalRegister) -> QuantumCircuit:\n",
    "    # qr is a quantum register with 2 qubits\n",
    "    # cr is a classical register with 2 bits\n",
    "\n",
    "    qc = QuantumCircuit(qr, cr)\n",
    "\n",
    "    q0, q1 = qr\n",
    "    qc.x(q1)\n",
    "    u_angle = 2 * np.pi / 3\n",
    "    k = 1\n",
    "    cphase_angle = u_angle * 2**k\n",
    "    qc.cp(cphase_angle, q0, q1)    \n",
    "    c0, c1 = cr\n",
    "    qc.measure(step1_bit, c0)    \n",
    "    qc.h(q0)\n",
    "    with qc.if_test((c0, 1)):\n",
    "        qc.p(-np.pi / 2, q0)\n",
    "    k = 0\n",
    "    cphase_angle = u_angle * 2**k\n",
    "    qc.cp(cphase_angle, q0, q1)\n",
    "    qc.h(q0)\n",
    "    qc.measure(q0, c1)\n",
    "\n",
    "    \n",
    "    return qc\n",
    "\n",
    "\n",
    "qr = QuantumRegister(2, \"q\")\n",
    "cr = ClassicalRegister(2, \"c\")\n",
    "qc = QuantumCircuit(qr, cr)\n",
    "qc = u_circuit(qr, cr)\n",
    "qc.draw(\"mpl\")"
   ]
  },
  {
   "cell_type": "code",
   "execution_count": 30,
   "metadata": {},
   "outputs": [
    {
     "name": "stdout",
     "output_type": "stream",
     "text": [
      "Submitting your answer. Please wait...\n",
      "Congratulations 🎉! Your answer is correct and has been submitted.\n"
     ]
    }
   ],
   "source": [
    "# Submit your result\n",
    "\n",
    "from qc_grader.challenges.spring_2023 import grade_ex3e\n",
    "\n",
    "grade_ex3e(qc)"
   ]
  },
  {
   "cell_type": "code",
   "execution_count": 33,
   "metadata": {},
   "outputs": [
    {
     "name": "stdout",
     "output_type": "stream",
     "text": [
      "{'11': 70, '01': 930}\n",
      "Success probability: 0.93\n"
     ]
    }
   ],
   "source": [
    "from qiskit_aer import AerSimulator\n",
    "\n",
    "sim = AerSimulator()\n",
    "job = sim.run(qc, shots=1000)\n",
    "result = job.result()\n",
    "counts = result.get_counts()\n",
    "print(counts)\n",
    "success_probability = counts[\"01\"] / counts.shots()\n",
    "print(f\"Success probability: {success_probability}\")"
   ]
  },
  {
   "cell_type": "markdown",
   "metadata": {},
   "source": [
    "¡Ahora, la probabilidad de éxito es mucho mayor que antes!"
   ]
  },
  {
   "cell_type": "markdown",
   "metadata": {},
   "source": [
    "## Ejecutar en hardware\n",
    "\n",
    "¡En la parte final de este laboratorio, ejecutaremos algunos circuitos en hardware real! Las celdas de código a continuación inicializan y ejecutan el circuito que creaste en el Ejercicio 2 para medir la fase de la compuerta $S$. Debido a que el hardware cuántico actual sufre de ruido, los resultados no serán tan buenos como los que obtuviste en el simulador. Siéntete libre de intentar ejecutar los otros circuitos que creaste en este laboratorio, aunque ten en cuenta que los circuitos más grandes, como el del Ejercicio 3 para medir la fase de la puerta $T$, sufrirán aún más ruido."
   ]
  },
  {
   "cell_type": "code",
   "execution_count": 34,
   "metadata": {},
   "outputs": [],
   "source": [
    "from qiskit_ibm_provider import IBMProvider\n",
    "\n",
    "provider = IBMProvider()"
   ]
  },
  {
   "cell_type": "code",
   "execution_count": 35,
   "metadata": {},
   "outputs": [],
   "source": [
    "hub = \"qc-spring-23-8\"\n",
    "group = \"group-3\"\n",
    "project = \"recFjaKjYXkjWYI4R\"\n",
    "\n",
    "backend_name = \"ibm_peekskill\"\n",
    "backend = provider.get_backend(backend_name, instance=f\"{hub}/{group}/{project}\")"
   ]
  },
  {
   "cell_type": "code",
   "execution_count": 36,
   "metadata": {},
   "outputs": [],
   "source": [
    "from qiskit import transpile\n",
    "\n",
    "qr = QuantumRegister(2, \"q\")\n",
    "cr = ClassicalRegister(2, \"c\")\n",
    "qc = QuantumCircuit(qr, cr)\n",
    "qc = step_2_circuit(qr, cr)\n",
    "qc_transpiled = transpile(qc, backend)"
   ]
  },
  {
   "cell_type": "code",
   "execution_count": 37,
   "metadata": {},
   "outputs": [
    {
     "name": "stdout",
     "output_type": "stream",
     "text": [
      "chmmgklnopt07g4c2al0\n"
     ]
    }
   ],
   "source": [
    "job = backend.run(qc_transpiled, shots=1000, dynamic=True)\n",
    "job_id = job.job_id()\n",
    "print(job_id)"
   ]
  },
  {
   "cell_type": "code",
   "execution_count": 38,
   "metadata": {},
   "outputs": [
    {
     "data": {
      "text/plain": [
       "<JobStatus.QUEUED: 'job is queued'>"
      ]
     },
     "execution_count": 38,
     "metadata": {},
     "output_type": "execute_result"
    }
   ],
   "source": [
    "retrieve_job = provider.retrieve_job(job_id)\n",
    "retrieve_job.status()"
   ]
  },
  {
   "cell_type": "code",
   "execution_count": 42,
   "metadata": {
    "tags": []
   },
   "outputs": [],
   "source": [
    "retrieve_job=provider.retrieve_job(\"chmmk846f7i49rr8t5p0\")"
   ]
  },
  {
   "cell_type": "code",
   "execution_count": 43,
   "metadata": {},
   "outputs": [
    {
     "data": {
      "image/png": "[encoded data removed]",
      "text/plain": [
       "<Figure size 700x500 with 1 Axes>"
      ]
     },
     "execution_count": 43,
     "metadata": {},
     "output_type": "execute_result"
    }
   ],
   "source": [
    "from qiskit.tools.visualization import plot_histogram\n",
    "\n",
    "counts = retrieve_job.result().get_counts()\n",
    "plot_histogram(counts)"
   ]
  },
  {
   "cell_type": "markdown",
   "metadata": {},
   "source": [
    "Este laboratorio fue adaptado del [laboratorio del libro de texto de Qiskit](https://learn.qiskit.org/course/ch-labs/lab-6-iterative-phase-estimation-algorithm) sobre estimación de fase iterativa, así como material de la [documentación de circuitos dinámicos](https://quantum-computing.ibm.com/services/resources/docs/resources/manage/systems/dynamic-circuits/Getting-started-with-Dynamic-Circuits)."
   ]
  }
 ],
 "metadata": {
  "kernelspec": {
   "display_name": "Python 3 (ipykernel)",
   "language": "python",
   "name": "python3"
  },
  "language_info": {
   "codemirror_mode": {
    "name": "ipython",
    "version": 3
   },
   "file_extension": ".py",
   "mimetype": "text/x-python",
   "name": "python",
   "nbconvert_exporter": "python",
   "pygments_lexer": "ipython3",
   "version": "3.10.8"
  },
  "vscode": {
   "interpreter": {
    "hash": "c2040b9df22fb8e6f552d9b589c97ff536ffe03a0da1ea2949f78b5a0e303bb6"
   }
  },
  "widgets": {
   "application/vnd.jupyter.widget-state+json": {
    "state": {},
    "version_major": 2,
    "version_minor": 0
   }
  }
 },
 "nbformat": 4,
 "nbformat_minor": 4
}
